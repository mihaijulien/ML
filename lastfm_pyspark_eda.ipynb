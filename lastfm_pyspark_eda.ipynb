{
  "nbformat": 4,
  "nbformat_minor": 0,
  "metadata": {
    "colab": {
      "name": "lastfm_pyspark_eda.ipynb",
      "provenance": [],
      "authorship_tag": "ABX9TyOhtw/LZvVC26I/ylzXn+wE"
    },
    "kernelspec": {
      "name": "python3",
      "display_name": "Python 3"
    },
    "language_info": {
      "name": "python"
    }
  },
  "cells": [
    {
      "cell_type": "code",
      "metadata": {
        "colab": {
          "base_uri": "https://localhost:8080/"
        },
        "id": "89Wmp_6aZeK9",
        "outputId": "bcf4c30d-c436-4757-aa31-755cc77028c2"
      },
      "source": [
        "!pip install pyspark"
      ],
      "execution_count": 2,
      "outputs": [
        {
          "output_type": "stream",
          "text": [
            "Collecting pyspark\n",
            "\u001b[?25l  Downloading https://files.pythonhosted.org/packages/45/b0/9d6860891ab14a39d4bddf80ba26ce51c2f9dc4805e5c6978ac0472c120a/pyspark-3.1.1.tar.gz (212.3MB)\n",
            "\u001b[K     |████████████████████████████████| 212.3MB 67kB/s \n",
            "\u001b[?25hCollecting py4j==0.10.9\n",
            "\u001b[?25l  Downloading https://files.pythonhosted.org/packages/9e/b6/6a4fb90cd235dc8e265a6a2067f2a2c99f0d91787f06aca4bcf7c23f3f80/py4j-0.10.9-py2.py3-none-any.whl (198kB)\n",
            "\u001b[K     |████████████████████████████████| 204kB 19.4MB/s \n",
            "\u001b[?25hBuilding wheels for collected packages: pyspark\n",
            "  Building wheel for pyspark (setup.py) ... \u001b[?25l\u001b[?25hdone\n",
            "  Created wheel for pyspark: filename=pyspark-3.1.1-py2.py3-none-any.whl size=212767604 sha256=2974f40c089e8d8a0eb3347a02ca8b5f1884d42daa8044de21a67524d4736732\n",
            "  Stored in directory: /root/.cache/pip/wheels/0b/90/c0/01de724414ef122bd05f056541fb6a0ecf47c7ca655f8b3c0f\n",
            "Successfully built pyspark\n",
            "Installing collected packages: py4j, pyspark\n",
            "Successfully installed py4j-0.10.9 pyspark-3.1.1\n"
          ],
          "name": "stdout"
        }
      ]
    },
    {
      "cell_type": "code",
      "metadata": {
        "id": "_-fGG5GvaWjb"
      },
      "source": [
        "from pyspark.sql import SparkSession"
      ],
      "execution_count": 5,
      "outputs": []
    },
    {
      "cell_type": "code",
      "metadata": {
        "id": "cwTYPZwkakyS"
      },
      "source": [
        "spark = SparkSession.builder.getOrCreate()"
      ],
      "execution_count": 6,
      "outputs": []
    },
    {
      "cell_type": "code",
      "metadata": {
        "id": "grybhsAbcvzd"
      },
      "source": [
        "listening_df = spark.read.csv('listenings.csv', inferSchema=True, header=True)"
      ],
      "execution_count": 16,
      "outputs": []
    },
    {
      "cell_type": "code",
      "metadata": {
        "colab": {
          "base_uri": "https://localhost:8080/"
        },
        "id": "OP-mGwA0c-h8",
        "outputId": "3dd28629-3fa8-4b74-8b6b-da88d07f0180"
      },
      "source": [
        "listening_df.printSchema()"
      ],
      "execution_count": 13,
      "outputs": [
        {
          "output_type": "stream",
          "text": [
            "root\n",
            " |-- user_id: string (nullable = true)\n",
            " |-- date: long (nullable = true)\n",
            " |-- track: string (nullable = true)\n",
            " |-- artist: string (nullable = true)\n",
            " |-- album: string (nullable = true)\n",
            "\n"
          ],
          "name": "stdout"
        }
      ]
    },
    {
      "cell_type": "code",
      "metadata": {
        "colab": {
          "base_uri": "https://localhost:8080/"
        },
        "id": "1mVt_JpHeAnz",
        "outputId": "83b8ea70-8c3a-45ac-c53c-a0162d865571"
      },
      "source": [
        "listening_df.show()"
      ],
      "execution_count": 17,
      "outputs": [
        {
          "output_type": "stream",
          "text": [
            "+-----------+-------------+--------------------+---------------+--------------------+\n",
            "|    user_id|         date|               track|         artist|               album|\n",
            "+-----------+-------------+--------------------+---------------+--------------------+\n",
            "|000Silenced|1299680100000|           Price Tag|       Jessie J|         Who You Are|\n",
            "|000Silenced|1299679920000|Price Tag (Acoust...|       Jessie J|           Price Tag|\n",
            "|000Silenced|1299679440000|Be Mine! (Ballad ...|          Robyn|            Be Mine!|\n",
            "|000Silenced|1299679200000|            Acapella|          Kelis|            Acapella|\n",
            "|000Silenced|1299675660000|   I'm Not Invisible|      The Tease|   I'm Not Invisible|\n",
            "|000Silenced|1297511400000|Bounce (Feat NORE...|       MSTRKRFT|         Fist of God|\n",
            "|000Silenced|1294498440000|Don't Stop The Mu...|        Rihanna|Addicted 2 Bassli...|\n",
            "|000Silenced|1292438340000|               ObZen|      Meshuggah|               ObZen|\n",
            "|000Silenced|1292437740000|   Yama's Messengers|         Gojira|The Way of All Flesh|\n",
            "|000Silenced|1292436360000|On the Brink of E...|   Napalm Death|Time Waits For No...|\n",
            "|000Silenced|1292436360000|On the Brink of E...|   Napalm Death|Time Waits For No...|\n",
            "|000Silenced|1292435940000|        In Deference|   Napalm Death|      Smear Campaign|\n",
            "|000Silenced|1292434920000|      Post(?)organic|    Decapitated|Organic Hallucinosis|\n",
            "|000Silenced|1292434560000|        Mind Feeders|   Dom & Roland| No Strings Attached|\n",
            "|000Silenced|1292434320000|Necrosadistic War...|Cannibal Corpse|                Kill|\n",
            "|000Silenced|1292365560000|     Dance All Night|   Dom & Roland|          Chronology|\n",
            "|000Silenced|1292365260000|          Late Night|   Dom & Roland|          Chronology|\n",
            "|000Silenced|1292365020000|          Freak Seen|   Dom & Roland|          Chronology|\n",
            "|000Silenced|1292364720000|Paradrenasite (Hi...|   Dom & Roland|          Chronology|\n",
            "|000Silenced|1292364300000|               Rhino|   Dom & Roland|          Chronology|\n",
            "+-----------+-------------+--------------------+---------------+--------------------+\n",
            "only showing top 20 rows\n",
            "\n"
          ],
          "name": "stdout"
        }
      ]
    },
    {
      "cell_type": "code",
      "metadata": {
        "id": "N9H-MPzPe9Kg"
      },
      "source": [
        "listening_df = listening_df.drop('date')"
      ],
      "execution_count": 19,
      "outputs": []
    },
    {
      "cell_type": "code",
      "metadata": {
        "colab": {
          "base_uri": "https://localhost:8080/"
        },
        "id": "Ut6Cn6apg9_t",
        "outputId": "00ebd783-6f4b-4799-8045-bbcbe39ec37a"
      },
      "source": [
        "shape = (listening_df.count(), len(listening_df.columns))\n",
        "print(shape[0], shape[1])"
      ],
      "execution_count": 26,
      "outputs": [
        {
          "output_type": "stream",
          "text": [
            "1567300 4\n"
          ],
          "name": "stdout"
        }
      ]
    },
    {
      "cell_type": "code",
      "metadata": {
        "id": "zoU0PoCtgVe6"
      },
      "source": [
        "listening_df = listening_df.na.drop()"
      ],
      "execution_count": 25,
      "outputs": []
    },
    {
      "cell_type": "code",
      "metadata": {
        "colab": {
          "base_uri": "https://localhost:8080/"
        },
        "id": "dFQu9x4ajuu9",
        "outputId": "8f69e9b5-373e-4e5e-b17d-30ae5d395c44"
      },
      "source": [
        "q0 = listening_df.select('artist', 'track')\n",
        "q0.show()"
      ],
      "execution_count": 27,
      "outputs": [
        {
          "output_type": "stream",
          "text": [
            "+---------------+--------------------+\n",
            "|         artist|               track|\n",
            "+---------------+--------------------+\n",
            "|       Jessie J|           Price Tag|\n",
            "|       Jessie J|Price Tag (Acoust...|\n",
            "|          Robyn|Be Mine! (Ballad ...|\n",
            "|          Kelis|            Acapella|\n",
            "|      The Tease|   I'm Not Invisible|\n",
            "|       MSTRKRFT|Bounce (Feat NORE...|\n",
            "|        Rihanna|Don't Stop The Mu...|\n",
            "|      Meshuggah|               ObZen|\n",
            "|         Gojira|   Yama's Messengers|\n",
            "|   Napalm Death|On the Brink of E...|\n",
            "|   Napalm Death|On the Brink of E...|\n",
            "|   Napalm Death|        In Deference|\n",
            "|    Decapitated|      Post(?)organic|\n",
            "|   Dom & Roland|        Mind Feeders|\n",
            "|Cannibal Corpse|Necrosadistic War...|\n",
            "|   Dom & Roland|     Dance All Night|\n",
            "|   Dom & Roland|          Late Night|\n",
            "|   Dom & Roland|          Freak Seen|\n",
            "|   Dom & Roland|Paradrenasite (Hi...|\n",
            "|   Dom & Roland|               Rhino|\n",
            "+---------------+--------------------+\n",
            "only showing top 20 rows\n",
            "\n"
          ],
          "name": "stdout"
        }
      ]
    },
    {
      "cell_type": "code",
      "metadata": {
        "colab": {
          "base_uri": "https://localhost:8080/"
        },
        "id": "r-1kHM0mj7tA",
        "outputId": "5d16fed1-905c-4ad3-9a41-2bcbd26ad856"
      },
      "source": [
        "q1 = listening_df.select('*').filter(listening_df.artist == 'Gojira')\n",
        "q1.show()"
      ],
      "execution_count": 31,
      "outputs": [
        {
          "output_type": "stream",
          "text": [
            "+-------------+--------------------+------+--------------------+\n",
            "|      user_id|               track|artist|               album|\n",
            "+-------------+--------------------+------+--------------------+\n",
            "|  000Silenced|   Yama's Messengers|Gojira|The Way of All Flesh|\n",
            "|   A3sahaettr|The Heaviest Matt...|Gojira| From Mars to Sirius|\n",
            "|   A3sahaettr|        From The Sky|Gojira| From Mars to Sirius|\n",
            "|    A5HL3Y123|    Esoteric Surgery|Gojira|The Way of All Flesh|\n",
            "|    A5HL3Y123|    The Art of Dying|Gojira|The Way of All Flesh|\n",
            "|      abanner|                  04|Gojira|     Terra Incognita|\n",
            "|     Abbeyb37|             The Axe|Gojira|    L'Enfant Sauvage|\n",
            "|     Abbeyb37|    L'Enfant sauvage|Gojira|    L'Enfant Sauvage|\n",
            "|     Abbeyb37|            Explosia|Gojira|    L'Enfant Sauvage|\n",
            "|     acaetion|       Flying Whales|Gojira| From Mars to Sirius|\n",
            "|  acidbath_34|        From The Sky|Gojira| From Mars to Sirius|\n",
            "|adam_crompton|            The Fall|Gojira|L'Enfant Sauvage ...|\n",
            "| AdamJohnLowe|         Liquid Fire|Gojira|    L'Enfant Sauvage|\n",
            "| AdamJohnLowe|            Explosia|Gojira|    L'Enfant Sauvage|\n",
            "| AdamJohnLowe|      Born in Winter|Gojira|    L'Enfant Sauvage|\n",
            "| AdamJohnLowe|             The Axe|Gojira|    L'Enfant Sauvage|\n",
            "| AdamJohnLowe|   The Gift of Guilt|Gojira|    L'Enfant Sauvage|\n",
            "| AdamJohnLowe|    L'Enfant sauvage|Gojira|    L'Enfant Sauvage|\n",
            "| AdamJohnLowe|    The Art of Dying|Gojira|The Way of All Flesh|\n",
            "| AdamJohnLowe|       Mouth of Kala|Gojira|    L'Enfant Sauvage|\n",
            "+-------------+--------------------+------+--------------------+\n",
            "only showing top 20 rows\n",
            "\n"
          ],
          "name": "stdout"
        }
      ]
    },
    {
      "cell_type": "code",
      "metadata": {
        "colab": {
          "base_uri": "https://localhost:8080/"
        },
        "id": "NsRLobbUlERr",
        "outputId": "a2c7d6ae-41bf-4932-d832-ec624fedfad4"
      },
      "source": [
        "from pyspark.sql.functions import count, desc, col\n",
        "\n",
        "q2 = listening_df.select('user_id').filter(listening_df.artist == 'Gojira').groupby('user_id').agg(count('user_id').alias('count')).limit(10)\n",
        "q2.show()"
      ],
      "execution_count": 57,
      "outputs": [
        {
          "output_type": "stream",
          "text": [
            "+---------------+-----+\n",
            "|        user_id|count|\n",
            "+---------------+-----+\n",
            "|     A3sahaettr|    2|\n",
            "|        babyist|    1|\n",
            "|  agirloncesaid|    2|\n",
            "|bluesformeister|    2|\n",
            "|      athomas21|    1|\n",
            "| blitzalchemist|    1|\n",
            "|Bionic_Commando|    1|\n",
            "|      A5HL3Y123|    2|\n",
            "|    BlackenedUK|   11|\n",
            "|  AddictOfMusic|   14|\n",
            "+---------------+-----+\n",
            "\n"
          ],
          "name": "stdout"
        }
      ]
    },
    {
      "cell_type": "code",
      "metadata": {
        "colab": {
          "base_uri": "https://localhost:8080/"
        },
        "id": "TMaz_tvM0RMN",
        "outputId": "b038defa-c092-4a4c-e59b-29e1ecc97cea"
      },
      "source": [
        "q3 = listening_df.select('artist', 'track').groupby('artist', 'track').agg(count('*').alias('count')).orderBy(desc('count'))\n",
        "q3.show()"
      ],
      "execution_count": 46,
      "outputs": [
        {
          "output_type": "stream",
          "text": [
            "+--------------------+------------------+-----+\n",
            "|              artist|             track|count|\n",
            "+--------------------+------------------+-----+\n",
            "|                Zayn|        PILLOWTALK|  442|\n",
            "|       Justin Bieber|             Sorry|  410|\n",
            "|            Bon Iver|       Skinny Love|  383|\n",
            "|      Arctic Monkeys|  Do I Wanna Know?|  368|\n",
            "|            Bon Iver|          Holocene|  347|\n",
            "|            Bastille|           Pompeii|  342|\n",
            "|             Rihanna|              Work|  337|\n",
            "|           Lady Gaga|       Bad Romance|  330|\n",
            "|                 Sia|        Chandelier|  325|\n",
            "|       Justin Bieber| What Do You Mean?|  308|\n",
            "|       Justin Bieber|     Love Yourself|  307|\n",
            "|Two Door Cinema Club|     What You Know|  290|\n",
            "|          The Weeknd|Can't Feel My Face|  285|\n",
            "|              Hozier| Take Me to Church|  282|\n",
            "|      Mumford & Sons|   Little Lion Man|  281|\n",
            "|      Mumford & Sons|          The Cave|  279|\n",
            "|       Fleetwood Mac|   Go Your Own Way|  278|\n",
            "|               Adele|             Hello|  277|\n",
            "|Florence + the Ma...| Dog Days Are Over|  277|\n",
            "|      Ellie Goulding|       Starry Eyed|  276|\n",
            "+--------------------+------------------+-----+\n",
            "only showing top 20 rows\n",
            "\n"
          ],
          "name": "stdout"
        }
      ]
    },
    {
      "cell_type": "code",
      "metadata": {
        "colab": {
          "base_uri": "https://localhost:8080/"
        },
        "id": "6VXGMkFA5tM4",
        "outputId": "6426d453-e3b6-48f1-ac61-5a1e0cc2ab03"
      },
      "source": [
        "q4 = listening_df.select('artist', 'track').filter(listening_df.artist == 'Rihanna').groupby('artist', 'track').agg(count('*').alias('count')).orderBy(desc('count'))\n",
        "q4.show()"
      ],
      "execution_count": 48,
      "outputs": [
        {
          "output_type": "stream",
          "text": [
            "+-------+--------------------+-----+\n",
            "| artist|               track|count|\n",
            "+-------+--------------------+-----+\n",
            "|Rihanna|                Work|  337|\n",
            "|Rihanna|We Found Love (fe...|  199|\n",
            "|Rihanna|            Rude Boy|  147|\n",
            "|Rihanna|            Diamonds|  145|\n",
            "|Rihanna|Only Girl (In the...|  139|\n",
            "|Rihanna|                 S&M|  131|\n",
            "|Rihanna|   Same Ol’ Mistakes|  105|\n",
            "|Rihanna|      Kiss it Better|  103|\n",
            "|Rihanna| Where Have You Been|  102|\n",
            "|Rihanna|           Needed Me|   96|\n",
            "|Rihanna|   Work (feat Drake)|   95|\n",
            "|Rihanna|Bitch Better Have...|   93|\n",
            "|Rihanna|           Desperado|   92|\n",
            "|Rihanna|       Consideration|   87|\n",
            "|Rihanna|         James Joint|   85|\n",
            "|Rihanna|          You Da One|   82|\n",
            "|Rihanna|     FourFiveSeconds|   75|\n",
            "|Rihanna|   Love On The Brain|   71|\n",
            "|Rihanna|    Russian Roulette|   71|\n",
            "|Rihanna|Cheers (Drink to ...|   70|\n",
            "+-------+--------------------+-----+\n",
            "only showing top 20 rows\n",
            "\n"
          ],
          "name": "stdout"
        }
      ]
    },
    {
      "cell_type": "code",
      "metadata": {
        "colab": {
          "base_uri": "https://localhost:8080/"
        },
        "id": "zDlrMDLs8JlG",
        "outputId": "d3e29ca6-6648-4656-aec4-4dd5cc603e2f"
      },
      "source": [
        "genre_df = spark.read.csv('genre.csv', inferSchema=True, header=True)\n",
        "genre_df.show()"
      ],
      "execution_count": 49,
      "outputs": [
        {
          "output_type": "stream",
          "text": [
            "+--------------------+-----+\n",
            "|              artist|genre|\n",
            "+--------------------+-----+\n",
            "|                Muse| rock|\n",
            "|             Nirvana| rock|\n",
            "|            Bon Jovi| rock|\n",
            "|          The Police| rock|\n",
            "|                Kiss| rock|\n",
            "|       Guns N' Roses| rock|\n",
            "|         Rusted Root| rock|\n",
            "|Katrina and the W...|  pop|\n",
            "|         The Beatles| rock|\n",
            "|        Hall & Oates|  pop|\n",
            "|        Otis Redding| soul|\n",
            "|         Marvin Gaye| soul|\n",
            "|     The Cranberries| rock|\n",
            "|            Survivor| rock|\n",
            "|       Fleetwood Mac|blues|\n",
            "|           Radiohead| rock|\n",
            "|                Toto| rock|\n",
            "|                  U2| rock|\n",
            "|Creedence Clearwa...| rock|\n",
            "|                 REM| rock|\n",
            "+--------------------+-----+\n",
            "only showing top 20 rows\n",
            "\n"
          ],
          "name": "stdout"
        }
      ]
    },
    {
      "cell_type": "code",
      "metadata": {
        "colab": {
          "base_uri": "https://localhost:8080/"
        },
        "id": "eWR-0TO29Dfy",
        "outputId": "ef67b17a-2ce1-4bfc-c984-5882d5e45545"
      },
      "source": [
        "genre_df.printSchema()"
      ],
      "execution_count": 50,
      "outputs": [
        {
          "output_type": "stream",
          "text": [
            "root\n",
            " |-- artist: string (nullable = true)\n",
            " |-- genre: string (nullable = true)\n",
            "\n"
          ],
          "name": "stdout"
        }
      ]
    },
    {
      "cell_type": "code",
      "metadata": {
        "colab": {
          "base_uri": "https://localhost:8080/"
        },
        "id": "vgTWAfxK_8lU",
        "outputId": "69165f72-ff55-42bd-b482-c6dd55860b6e"
      },
      "source": [
        "data = listening_df.join(genre_df, how='inner', on=['artist'])\n",
        "data.show()"
      ],
      "execution_count": 51,
      "outputs": [
        {
          "output_type": "stream",
          "text": [
            "+------------+-----------+--------------------+--------------------+--------------------+\n",
            "|      artist|    user_id|               track|               album|               genre|\n",
            "+------------+-----------+--------------------+--------------------+--------------------+\n",
            "|    Jessie J|000Silenced|           Price Tag|         Who You Are| Ariana Grande & ...|\n",
            "|    Jessie J|000Silenced|           Price Tag|         Who You Are| Jhene Aiko & Rixton|\n",
            "|    Jessie J|000Silenced|           Price Tag|         Who You Are| Nicki Minaj & Ar...|\n",
            "|    Jessie J|000Silenced|           Price Tag|         Who You Are|                 pop|\n",
            "|    Jessie J|000Silenced|Price Tag (Acoust...|           Price Tag| Ariana Grande & ...|\n",
            "|    Jessie J|000Silenced|Price Tag (Acoust...|           Price Tag| Jhene Aiko & Rixton|\n",
            "|    Jessie J|000Silenced|Price Tag (Acoust...|           Price Tag| Nicki Minaj & Ar...|\n",
            "|    Jessie J|000Silenced|Price Tag (Acoust...|           Price Tag|                 pop|\n",
            "|       Robyn|000Silenced|Be Mine! (Ballad ...|            Be Mine!|                 pop|\n",
            "|       Kelis|000Silenced|            Acapella|            Acapella|                 pop|\n",
            "|   The Tease|000Silenced|   I'm Not Invisible|   I'm Not Invisible|             hip hop|\n",
            "|    MSTRKRFT|000Silenced|Bounce (Feat NORE...|         Fist of God|          electronic|\n",
            "|     Rihanna|000Silenced|Don't Stop The Mu...|Addicted 2 Bassli...|                 SZA|\n",
            "|     Rihanna|000Silenced|Don't Stop The Mu...|Addicted 2 Bassli...| Paul McCartney &...|\n",
            "|     Rihanna|000Silenced|Don't Stop The Mu...|Addicted 2 Bassli...|          Kanye West|\n",
            "|     Rihanna|000Silenced|Don't Stop The Mu...|Addicted 2 Bassli...| Kanye West & Pau...|\n",
            "|     Rihanna|000Silenced|Don't Stop The Mu...|Addicted 2 Bassli...|                 pop|\n",
            "|   Meshuggah|000Silenced|               ObZen|               ObZen|               metal|\n",
            "|      Gojira|000Silenced|   Yama's Messengers|The Way of All Flesh|               metal|\n",
            "|Napalm Death|000Silenced|On the Brink of E...|Time Waits For No...|           grindcore|\n",
            "+------------+-----------+--------------------+--------------------+--------------------+\n",
            "only showing top 20 rows\n",
            "\n"
          ],
          "name": "stdout"
        }
      ]
    },
    {
      "cell_type": "code",
      "metadata": {
        "colab": {
          "base_uri": "https://localhost:8080/"
        },
        "id": "Gtz6dpTH9iCU",
        "outputId": "d7619d51-04db-4532-942d-1ae544496ae9"
      },
      "source": [
        "q6 = data.select('user_id').filter(data.genre == 'pop').groupby('user_id').agg(count('*').alias('count')).orderBy(desc('count')).limit(10)\n",
        "q6.show()"
      ],
      "execution_count": 53,
      "outputs": [
        {
          "output_type": "stream",
          "text": [
            "+--------------+-----+\n",
            "|       user_id|count|\n",
            "+--------------+-----+\n",
            "|       01Green|  496|\n",
            "|    BIGBANG186|  227|\n",
            "|   aboylike_me|  200|\n",
            "|    addywalter|  199|\n",
            "| artistic-leaf|  199|\n",
            "|       beth182|  197|\n",
            "|BeatriceCarver|  196|\n",
            "|    angelsmith|  193|\n",
            "|  BlueKnockOut|  193|\n",
            "|     Braverism|  191|\n",
            "+--------------+-----+\n",
            "\n"
          ],
          "name": "stdout"
        }
      ]
    },
    {
      "cell_type": "code",
      "metadata": {
        "colab": {
          "base_uri": "https://localhost:8080/"
        },
        "id": "iDFb28stBE7N",
        "outputId": "5c872daf-8b97-40d6-a66f-db3c34aa64f8"
      },
      "source": [
        "q7 = data.select('genre').groupby('genre').agg(count('*').alias('count')).orderBy(desc('count')).limit(10)\n",
        "q7.show()"
      ],
      "execution_count": 55,
      "outputs": [
        {
          "output_type": "stream",
          "text": [
            "+----------+------+\n",
            "|     genre| count|\n",
            "+----------+------+\n",
            "|      rock|300626|\n",
            "|       pop|175792|\n",
            "|electronic| 63445|\n",
            "|   hip hop| 58745|\n",
            "|      folk| 51310|\n",
            "|indie rock| 51263|\n",
            "|      punk| 44359|\n",
            "|       r&b| 41002|\n",
            "|      jazz| 25379|\n",
            "|     indie| 24423|\n",
            "+----------+------+\n",
            "\n"
          ],
          "name": "stdout"
        }
      ]
    },
    {
      "cell_type": "code",
      "metadata": {
        "colab": {
          "base_uri": "https://localhost:8080/"
        },
        "id": "H8FrxYK5BWaa",
        "outputId": "95e74202-40fc-4c4e-c2d0-9f52cc892ea1"
      },
      "source": [
        "q8 = genre_df.select('genre').filter( (col('genre') == 'pop') | (col('genre') == 'rock') | (col('genre') == 'metal') | (col('genre') == 'hip hop')).groupby('genre').agg(count('genre').alias('count'))\n",
        "q8.show()"
      ],
      "execution_count": 66,
      "outputs": [
        {
          "output_type": "stream",
          "text": [
            "+-------+-----+\n",
            "|  genre|count|\n",
            "+-------+-----+\n",
            "|    pop| 6960|\n",
            "|hip hop| 4288|\n",
            "|  metal| 1854|\n",
            "|   rock| 9066|\n",
            "+-------+-----+\n",
            "\n"
          ],
          "name": "stdout"
        }
      ]
    },
    {
      "cell_type": "code",
      "metadata": {
        "colab": {
          "base_uri": "https://localhost:8080/"
        },
        "id": "ONvIav9aEFVb",
        "outputId": "72d88abb-b999-4c2d-f1f2-2b1190d13669"
      },
      "source": [
        "q8_list = q8.collect()\n",
        "\n",
        "labels = [row['genre'] for row in q8_list]\n",
        "counts = [row['count'] for row in q8_list]\n",
        "\n",
        "print(labels)\n",
        "print(counts)"
      ],
      "execution_count": 70,
      "outputs": [
        {
          "output_type": "stream",
          "text": [
            "['pop', 'hip hop', 'metal', 'rock']\n",
            "[6960, 4288, 1854, 9066]\n"
          ],
          "name": "stdout"
        }
      ]
    },
    {
      "cell_type": "code",
      "metadata": {
        "colab": {
          "base_uri": "https://localhost:8080/",
          "height": 283
        },
        "id": "HMnU3JbvEf6Q",
        "outputId": "7bda87a1-5aa9-457b-931f-e1a7060099bd"
      },
      "source": [
        "import matplotlib.pyplot as plt\n",
        "\n",
        "plt.bar(labels, counts)"
      ],
      "execution_count": 71,
      "outputs": [
        {
          "output_type": "execute_result",
          "data": {
            "text/plain": [
              "<BarContainer object of 4 artists>"
            ]
          },
          "metadata": {
            "tags": []
          },
          "execution_count": 71
        },
        {
          "output_type": "display_data",
          "data": {
            "image/png": "[encoded data removed]",
            "text/plain": [
              "<Figure size 432x288 with 1 Axes>"
            ]
          },
          "metadata": {
            "tags": [],
            "needs_background": "light"
          }
        }
      ]
    }
  ]
}