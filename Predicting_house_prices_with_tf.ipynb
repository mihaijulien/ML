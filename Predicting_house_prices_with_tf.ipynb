{
  "nbformat": 4,
  "nbformat_minor": 0,
  "metadata": {
    "colab": {
      "name": "Predicting house prices with tf.ipynb",
      "provenance": [],
      "authorship_tag": "ABX9TyP7OiFxnviFeAH2kaXdGvl9"
    },
    "kernelspec": {
      "name": "python3",
      "display_name": "Python 3"
    }
  },
  "cells": [
    {
      "cell_type": "code",
      "metadata": {
        "id": "yFUQRP_uNtqo",
        "colab_type": "code",
        "colab": {
          "base_uri": "https://localhost:8080/",
          "height": 35
        },
        "outputId": "3a665637-9366-4068-c860-080b630ca6a6"
      },
      "source": [
        "from google.colab import drive\n",
        "drive.mount(\"/content/drive\")"
      ],
      "execution_count": 27,
      "outputs": [
        {
          "output_type": "stream",
          "text": [
            "Drive already mounted at /content/drive; to attempt to forcibly remount, call drive.mount(\"/content/drive\", force_remount=True).\n"
          ],
          "name": "stdout"
        }
      ]
    },
    {
      "cell_type": "code",
      "metadata": {
        "id": "cqdb4poGPInw",
        "colab_type": "code",
        "colab": {
          "base_uri": "https://localhost:8080/",
          "height": 206
        },
        "outputId": "5e90117c-c836-4a0c-d5fb-a5511a5ae66a"
      },
      "source": [
        "import pandas as pd\n",
        "\n",
        "path = \"/content/drive/My Drive/ML/datasets/predicting_house_prices_tf/data.csv\"\n",
        "column_names = ['serial', 'date', 'age', 'distance', 'stores', 'latitude', 'longitude', 'price']\n",
        "df = pd.read_csv(path, names=column_names)\n",
        "df.head()"
      ],
      "execution_count": 71,
      "outputs": [
        {
          "output_type": "execute_result",
          "data": {
            "text/html": [
              "<div>\n",
              "<style scoped>\n",
              "    .dataframe tbody tr th:only-of-type {\n",
              "        vertical-align: middle;\n",
              "    }\n",
              "\n",
              "    .dataframe tbody tr th {\n",
              "        vertical-align: top;\n",
              "    }\n",
              "\n",
              "    .dataframe thead th {\n",
              "        text-align: right;\n",
              "    }\n",
              "</style>\n",
              "<table border=\"1\" class=\"dataframe\">\n",
              "  <thead>\n",
              "    <tr style=\"text-align: right;\">\n",
              "      <th></th>\n",
              "      <th>serial</th>\n",
              "      <th>date</th>\n",
              "      <th>age</th>\n",
              "      <th>distance</th>\n",
              "      <th>stores</th>\n",
              "      <th>latitude</th>\n",
              "      <th>longitude</th>\n",
              "      <th>price</th>\n",
              "    </tr>\n",
              "  </thead>\n",
              "  <tbody>\n",
              "    <tr>\n",
              "      <th>0</th>\n",
              "      <td>0</td>\n",
              "      <td>2009</td>\n",
              "      <td>21</td>\n",
              "      <td>9</td>\n",
              "      <td>6</td>\n",
              "      <td>84</td>\n",
              "      <td>121</td>\n",
              "      <td>14264</td>\n",
              "    </tr>\n",
              "    <tr>\n",
              "      <th>1</th>\n",
              "      <td>1</td>\n",
              "      <td>2007</td>\n",
              "      <td>4</td>\n",
              "      <td>2</td>\n",
              "      <td>3</td>\n",
              "      <td>86</td>\n",
              "      <td>121</td>\n",
              "      <td>12032</td>\n",
              "    </tr>\n",
              "    <tr>\n",
              "      <th>2</th>\n",
              "      <td>2</td>\n",
              "      <td>2016</td>\n",
              "      <td>18</td>\n",
              "      <td>3</td>\n",
              "      <td>7</td>\n",
              "      <td>90</td>\n",
              "      <td>120</td>\n",
              "      <td>13560</td>\n",
              "    </tr>\n",
              "    <tr>\n",
              "      <th>3</th>\n",
              "      <td>3</td>\n",
              "      <td>2002</td>\n",
              "      <td>13</td>\n",
              "      <td>2</td>\n",
              "      <td>2</td>\n",
              "      <td>80</td>\n",
              "      <td>128</td>\n",
              "      <td>12029</td>\n",
              "    </tr>\n",
              "    <tr>\n",
              "      <th>4</th>\n",
              "      <td>4</td>\n",
              "      <td>2014</td>\n",
              "      <td>25</td>\n",
              "      <td>5</td>\n",
              "      <td>8</td>\n",
              "      <td>81</td>\n",
              "      <td>122</td>\n",
              "      <td>14157</td>\n",
              "    </tr>\n",
              "  </tbody>\n",
              "</table>\n",
              "</div>"
            ],
            "text/plain": [
              "   serial  date  age  distance  stores  latitude  longitude  price\n",
              "0       0  2009   21         9       6        84        121  14264\n",
              "1       1  2007    4         2       3        86        121  12032\n",
              "2       2  2016   18         3       7        90        120  13560\n",
              "3       3  2002   13         2       2        80        128  12029\n",
              "4       4  2014   25         5       8        81        122  14157"
            ]
          },
          "metadata": {
            "tags": []
          },
          "execution_count": 71
        }
      ]
    },
    {
      "cell_type": "code",
      "metadata": {
        "id": "N6_nStlZXqx5",
        "colab_type": "code",
        "colab": {
          "base_uri": "https://localhost:8080/",
          "height": 182
        },
        "outputId": "ec5471b1-a704-433c-c2d4-53660f99b2a2"
      },
      "source": [
        "#check for missing data\n",
        "\n",
        "df.isnull().sum()"
      ],
      "execution_count": 66,
      "outputs": [
        {
          "output_type": "execute_result",
          "data": {
            "text/plain": [
              "serial       0\n",
              "date         0\n",
              "age          0\n",
              "distance     0\n",
              "stores       0\n",
              "latitude     0\n",
              "longitude    0\n",
              "price        0\n",
              "dtype: int64"
            ]
          },
          "metadata": {
            "tags": []
          },
          "execution_count": 66
        }
      ]
    },
    {
      "cell_type": "code",
      "metadata": {
        "id": "tdRsUmyDaqtW",
        "colab_type": "code",
        "colab": {
          "base_uri": "https://localhost:8080/",
          "height": 182
        },
        "outputId": "afee36cc-6f23-4efc-cb48-80899263125e"
      },
      "source": [
        "matrix_correlation = df.corr()\n",
        "matrix_correlation['price'].sort_values(ascending=False)"
      ],
      "execution_count": 57,
      "outputs": [
        {
          "output_type": "execute_result",
          "data": {
            "text/plain": [
              "price        1.000000\n",
              "distance     0.651004\n",
              "age          0.616318\n",
              "stores       0.158329\n",
              "date         0.036171\n",
              "serial       0.024383\n",
              "longitude    0.020915\n",
              "latitude     0.010986\n",
              "Name: price, dtype: float64"
            ]
          },
          "metadata": {
            "tags": []
          },
          "execution_count": 57
        }
      ]
    },
    {
      "cell_type": "code",
      "metadata": {
        "id": "i5Gi4V-QbTH9",
        "colab_type": "code",
        "colab": {}
      },
      "source": [
        "# drop low correlated columns to the target\n",
        "\n",
        "#df = df.drop(['latitude', 'longitude'], axis=1)\n",
        "df = df.drop(columns=['latitude', 'longitude'])"
      ],
      "execution_count": 72,
      "outputs": []
    },
    {
      "cell_type": "code",
      "metadata": {
        "id": "909RTnILYJ_E",
        "colab_type": "code",
        "colab": {
          "base_uri": "https://localhost:8080/",
          "height": 348
        },
        "outputId": "39341e86-1e20-42d2-a98a-68ed5a8c1364"
      },
      "source": [
        "# data normalization\n",
        "from sklearn.preprocessing import StandardScaler\n",
        "\n",
        "features = list(df.drop(columns = 'price'))\n",
        "X = StandardScaler().fit_transform(df[features])\n",
        "y = df['price']\n",
        "print(pd.DataFrame(data=X).head())\n",
        "print(y)"
      ],
      "execution_count": 73,
      "outputs": [
        {
          "output_type": "stream",
          "text": [
            "          0         1         2         3         4\n",
            "0 -1.731704  0.015979  0.181402  1.257127  0.345258\n",
            "1 -1.731012 -0.350520 -1.319250 -0.930703 -0.609373\n",
            "2 -1.730319  1.298728 -0.083419 -0.618156  0.663469\n",
            "3 -1.729626 -1.266769 -0.524787 -0.930703 -0.927583\n",
            "4 -1.728933  0.932228  0.534497  0.006939  0.981679\n",
            "0       14264\n",
            "1       12032\n",
            "2       13560\n",
            "3       12029\n",
            "4       14157\n",
            "        ...  \n",
            "4995    13539\n",
            "4996    14757\n",
            "4997    14102\n",
            "4998    14313\n",
            "4999    12770\n",
            "Name: price, Length: 5000, dtype: int64\n"
          ],
          "name": "stdout"
        }
      ]
    },
    {
      "cell_type": "code",
      "metadata": {
        "id": "3dgP9X0AaB-_",
        "colab_type": "code",
        "colab": {
          "base_uri": "https://localhost:8080/",
          "height": 54
        },
        "outputId": "1a96afb3-d286-4d57-fc93-ac91edb9ad2f"
      },
      "source": [
        "print(y.shape)\n",
        "print(X.shape)"
      ],
      "execution_count": 77,
      "outputs": [
        {
          "output_type": "stream",
          "text": [
            "(5000,)\n",
            "(5000, 5)\n"
          ],
          "name": "stdout"
        }
      ]
    },
    {
      "cell_type": "code",
      "metadata": {
        "id": "u1caLVzDcvKE",
        "colab_type": "code",
        "colab": {}
      },
      "source": [
        "from sklearn.model_selection import train_test_split\n",
        "\n",
        "X_train, X_test, y_train, y_test = train_test_split(X, y, test_size=0.2)"
      ],
      "execution_count": 85,
      "outputs": []
    },
    {
      "cell_type": "code",
      "metadata": {
        "id": "JiY9Z06_dDyJ",
        "colab_type": "code",
        "colab": {
          "base_uri": "https://localhost:8080/",
          "height": 311
        },
        "outputId": "73701149-3990-4acd-a3f0-e6a7f6ab3111"
      },
      "source": [
        "from keras.models import Sequential\n",
        "from keras.layers import Dense, Dropout\n",
        "\n",
        "model = Sequential()\n",
        "\n",
        "model.add(Dense(10, input_shape=(5,), activation='relu'))\n",
        "model.add(Dense(20, activation='relu'))\n",
        "model.add(Dense(5, activation='relu'))\n",
        "model.add(Dense(1))\n",
        "\n",
        "model.compile(loss='mse', optimizer='adam')\n",
        "\n",
        "model.summary()"
      ],
      "execution_count": 83,
      "outputs": [
        {
          "output_type": "stream",
          "text": [
            "Model: \"sequential_4\"\n",
            "_________________________________________________________________\n",
            "Layer (type)                 Output Shape              Param #   \n",
            "=================================================================\n",
            "dense_16 (Dense)             (None, 10)                60        \n",
            "_________________________________________________________________\n",
            "dense_17 (Dense)             (None, 20)                220       \n",
            "_________________________________________________________________\n",
            "dense_18 (Dense)             (None, 5)                 105       \n",
            "_________________________________________________________________\n",
            "dense_19 (Dense)             (None, 1)                 6         \n",
            "=================================================================\n",
            "Total params: 391\n",
            "Trainable params: 391\n",
            "Non-trainable params: 0\n",
            "_________________________________________________________________\n"
          ],
          "name": "stdout"
        }
      ]
    },
    {
      "cell_type": "code",
      "metadata": {
        "id": "T0O8SLdjl73v",
        "colab_type": "code",
        "colab": {
          "base_uri": "https://localhost:8080/",
          "height": 1000
        },
        "outputId": "1ffe1dea-e115-457d-a398-7722eab544ac"
      },
      "source": [
        "history = model.fit(X_train, y_train, validation_data=(X_test, y_test), epochs=100)"
      ],
      "execution_count": 86,
      "outputs": [
        {
          "output_type": "stream",
          "text": [
            "Epoch 1/100\n",
            "125/125 [==============================] - 0s 2ms/step - loss: 194569680.0000 - val_loss: 193665808.0000\n",
            "Epoch 2/100\n",
            "125/125 [==============================] - 0s 1ms/step - loss: 193952480.0000 - val_loss: 192140704.0000\n",
            "Epoch 3/100\n",
            "125/125 [==============================] - 0s 1ms/step - loss: 189639200.0000 - val_loss: 184119792.0000\n",
            "Epoch 4/100\n",
            "125/125 [==============================] - 0s 1ms/step - loss: 174522528.0000 - val_loss: 161779456.0000\n",
            "Epoch 5/100\n",
            "125/125 [==============================] - 0s 1ms/step - loss: 141502096.0000 - val_loss: 120173664.0000\n",
            "Epoch 6/100\n",
            "125/125 [==============================] - 0s 1ms/step - loss: 92220392.0000 - val_loss: 69216352.0000\n",
            "Epoch 7/100\n",
            "125/125 [==============================] - 0s 1ms/step - loss: 45762848.0000 - val_loss: 30909212.0000\n",
            "Epoch 8/100\n",
            "125/125 [==============================] - 0s 1ms/step - loss: 19134700.0000 - val_loss: 12982136.0000\n",
            "Epoch 9/100\n",
            "125/125 [==============================] - 0s 1ms/step - loss: 8586332.0000 - val_loss: 6343493.0000\n",
            "Epoch 10/100\n",
            "125/125 [==============================] - 0s 1ms/step - loss: 4776157.0000 - val_loss: 4010455.0000\n",
            "Epoch 11/100\n",
            "125/125 [==============================] - 0s 1ms/step - loss: 3406077.7500 - val_loss: 3181094.2500\n",
            "Epoch 12/100\n",
            "125/125 [==============================] - 0s 1ms/step - loss: 2863131.7500 - val_loss: 2810832.7500\n",
            "Epoch 13/100\n",
            "125/125 [==============================] - 0s 1ms/step - loss: 2593970.7500 - val_loss: 2595013.5000\n",
            "Epoch 14/100\n",
            "125/125 [==============================] - 0s 1ms/step - loss: 2413543.7500 - val_loss: 2420887.2500\n",
            "Epoch 15/100\n",
            "125/125 [==============================] - 0s 1ms/step - loss: 2265143.5000 - val_loss: 2270414.7500\n",
            "Epoch 16/100\n",
            "125/125 [==============================] - 0s 1ms/step - loss: 2133501.7500 - val_loss: 2131157.7500\n",
            "Epoch 17/100\n",
            "125/125 [==============================] - 0s 1ms/step - loss: 2009003.7500 - val_loss: 2006026.7500\n",
            "Epoch 18/100\n",
            "125/125 [==============================] - 0s 1ms/step - loss: 1893904.5000 - val_loss: 1888103.1250\n",
            "Epoch 19/100\n",
            "125/125 [==============================] - 0s 1ms/step - loss: 1786827.6250 - val_loss: 1774945.2500\n",
            "Epoch 20/100\n",
            "125/125 [==============================] - 0s 1ms/step - loss: 1685030.1250 - val_loss: 1673275.7500\n",
            "Epoch 21/100\n",
            "125/125 [==============================] - 0s 1ms/step - loss: 1591150.7500 - val_loss: 1578854.5000\n",
            "Epoch 22/100\n",
            "125/125 [==============================] - 0s 1ms/step - loss: 1503496.7500 - val_loss: 1486309.1250\n",
            "Epoch 23/100\n",
            "125/125 [==============================] - 0s 1ms/step - loss: 1421001.0000 - val_loss: 1399583.8750\n",
            "Epoch 24/100\n",
            "125/125 [==============================] - 0s 1ms/step - loss: 1340717.7500 - val_loss: 1318592.3750\n",
            "Epoch 25/100\n",
            "125/125 [==============================] - 0s 1ms/step - loss: 1263434.6250 - val_loss: 1243333.7500\n",
            "Epoch 26/100\n",
            "125/125 [==============================] - 0s 1ms/step - loss: 1192183.7500 - val_loss: 1168711.0000\n",
            "Epoch 27/100\n",
            "125/125 [==============================] - 0s 1ms/step - loss: 1123209.3750 - val_loss: 1101860.0000\n",
            "Epoch 28/100\n",
            "125/125 [==============================] - 0s 1ms/step - loss: 1057036.7500 - val_loss: 1032855.4375\n",
            "Epoch 29/100\n",
            "125/125 [==============================] - 0s 1ms/step - loss: 994798.6250 - val_loss: 968218.0625\n",
            "Epoch 30/100\n",
            "125/125 [==============================] - 0s 1ms/step - loss: 935639.7500 - val_loss: 910705.1875\n",
            "Epoch 31/100\n",
            "125/125 [==============================] - 0s 1ms/step - loss: 879920.7500 - val_loss: 853035.1250\n",
            "Epoch 32/100\n",
            "125/125 [==============================] - 0s 1ms/step - loss: 826219.4375 - val_loss: 798193.1250\n",
            "Epoch 33/100\n",
            "125/125 [==============================] - 0s 1ms/step - loss: 774275.1875 - val_loss: 748727.6875\n",
            "Epoch 34/100\n",
            "125/125 [==============================] - 0s 1ms/step - loss: 724879.4375 - val_loss: 699191.5625\n",
            "Epoch 35/100\n",
            "125/125 [==============================] - 0s 1ms/step - loss: 677759.6875 - val_loss: 652153.0625\n",
            "Epoch 36/100\n",
            "125/125 [==============================] - 0s 1ms/step - loss: 634296.8125 - val_loss: 609617.0625\n",
            "Epoch 37/100\n",
            "125/125 [==============================] - 0s 1ms/step - loss: 595580.4375 - val_loss: 570544.7500\n",
            "Epoch 38/100\n",
            "125/125 [==============================] - 0s 1ms/step - loss: 557965.0000 - val_loss: 531640.0000\n",
            "Epoch 39/100\n",
            "125/125 [==============================] - 0s 1ms/step - loss: 522374.7812 - val_loss: 501528.5625\n",
            "Epoch 40/100\n",
            "125/125 [==============================] - 0s 1ms/step - loss: 490565.6875 - val_loss: 467438.4375\n",
            "Epoch 41/100\n",
            "125/125 [==============================] - 0s 1ms/step - loss: 460966.8750 - val_loss: 437343.8125\n",
            "Epoch 42/100\n",
            "125/125 [==============================] - 0s 1ms/step - loss: 433571.2188 - val_loss: 413484.4688\n",
            "Epoch 43/100\n",
            "125/125 [==============================] - 0s 1ms/step - loss: 409355.4375 - val_loss: 387430.6250\n",
            "Epoch 44/100\n",
            "125/125 [==============================] - 0s 1ms/step - loss: 385445.7500 - val_loss: 364995.2812\n",
            "Epoch 45/100\n",
            "125/125 [==============================] - 0s 1ms/step - loss: 364413.2500 - val_loss: 342570.8750\n",
            "Epoch 46/100\n",
            "125/125 [==============================] - 0s 1ms/step - loss: 343839.7500 - val_loss: 325796.0625\n",
            "Epoch 47/100\n",
            "125/125 [==============================] - 0s 1ms/step - loss: 326193.1875 - val_loss: 307796.3125\n",
            "Epoch 48/100\n",
            "125/125 [==============================] - 0s 1ms/step - loss: 310454.1875 - val_loss: 292639.6250\n",
            "Epoch 49/100\n",
            "125/125 [==============================] - 0s 1ms/step - loss: 295569.9062 - val_loss: 277915.1875\n",
            "Epoch 50/100\n",
            "125/125 [==============================] - 0s 1ms/step - loss: 281923.3750 - val_loss: 266642.5000\n",
            "Epoch 51/100\n",
            "125/125 [==============================] - 0s 1ms/step - loss: 270291.0938 - val_loss: 256267.6250\n",
            "Epoch 52/100\n",
            "125/125 [==============================] - 0s 1ms/step - loss: 259173.7031 - val_loss: 244354.9844\n",
            "Epoch 53/100\n",
            "125/125 [==============================] - 0s 1ms/step - loss: 249766.8125 - val_loss: 237986.6562\n",
            "Epoch 54/100\n",
            "125/125 [==============================] - 0s 1ms/step - loss: 240804.1875 - val_loss: 230105.8906\n",
            "Epoch 55/100\n",
            "125/125 [==============================] - 0s 1ms/step - loss: 233344.5938 - val_loss: 221830.1250\n",
            "Epoch 56/100\n",
            "125/125 [==============================] - 0s 1ms/step - loss: 226576.1094 - val_loss: 216286.3750\n",
            "Epoch 57/100\n",
            "125/125 [==============================] - 0s 1ms/step - loss: 219972.0312 - val_loss: 213697.9062\n",
            "Epoch 58/100\n",
            "125/125 [==============================] - 0s 1ms/step - loss: 215061.6562 - val_loss: 206906.7031\n",
            "Epoch 59/100\n",
            "125/125 [==============================] - 0s 1ms/step - loss: 210659.3125 - val_loss: 202699.6406\n",
            "Epoch 60/100\n",
            "125/125 [==============================] - 0s 1ms/step - loss: 205850.1250 - val_loss: 199491.5781\n",
            "Epoch 61/100\n",
            "125/125 [==============================] - 0s 1ms/step - loss: 201128.9219 - val_loss: 194673.3281\n",
            "Epoch 62/100\n",
            "125/125 [==============================] - 0s 1ms/step - loss: 197198.5312 - val_loss: 192037.3281\n",
            "Epoch 63/100\n",
            "125/125 [==============================] - 0s 1ms/step - loss: 194507.5000 - val_loss: 190093.2812\n",
            "Epoch 64/100\n",
            "125/125 [==============================] - 0s 1ms/step - loss: 191720.2812 - val_loss: 188002.7031\n",
            "Epoch 65/100\n",
            "125/125 [==============================] - 0s 1ms/step - loss: 189346.1875 - val_loss: 185205.1562\n",
            "Epoch 66/100\n",
            "125/125 [==============================] - 0s 1ms/step - loss: 187205.5938 - val_loss: 184885.8281\n",
            "Epoch 67/100\n",
            "125/125 [==============================] - 0s 1ms/step - loss: 185403.2969 - val_loss: 181152.1875\n",
            "Epoch 68/100\n",
            "125/125 [==============================] - 0s 1ms/step - loss: 183605.5469 - val_loss: 180858.5312\n",
            "Epoch 69/100\n",
            "125/125 [==============================] - 0s 1ms/step - loss: 181908.2344 - val_loss: 179911.7031\n",
            "Epoch 70/100\n",
            "125/125 [==============================] - 0s 1ms/step - loss: 180270.8438 - val_loss: 179483.3281\n",
            "Epoch 71/100\n",
            "125/125 [==============================] - 0s 1ms/step - loss: 179166.7500 - val_loss: 177546.5156\n",
            "Epoch 72/100\n",
            "125/125 [==============================] - 0s 1ms/step - loss: 178846.7500 - val_loss: 175979.8906\n",
            "Epoch 73/100\n",
            "125/125 [==============================] - 0s 1ms/step - loss: 177285.1719 - val_loss: 178476.4375\n",
            "Epoch 74/100\n",
            "125/125 [==============================] - 0s 1ms/step - loss: 176408.2344 - val_loss: 173226.4688\n",
            "Epoch 75/100\n",
            "125/125 [==============================] - 0s 1ms/step - loss: 175306.9688 - val_loss: 173091.4844\n",
            "Epoch 76/100\n",
            "125/125 [==============================] - 0s 1ms/step - loss: 174082.2188 - val_loss: 171727.3906\n",
            "Epoch 77/100\n",
            "125/125 [==============================] - 0s 1ms/step - loss: 173216.3438 - val_loss: 173192.9688\n",
            "Epoch 78/100\n",
            "125/125 [==============================] - 0s 1ms/step - loss: 173659.5781 - val_loss: 174038.6719\n",
            "Epoch 79/100\n",
            "125/125 [==============================] - 0s 1ms/step - loss: 172956.7656 - val_loss: 176504.8906\n",
            "Epoch 80/100\n",
            "125/125 [==============================] - 0s 1ms/step - loss: 173798.5000 - val_loss: 171500.3750\n",
            "Epoch 81/100\n",
            "125/125 [==============================] - 0s 1ms/step - loss: 172054.4531 - val_loss: 170560.8281\n",
            "Epoch 82/100\n",
            "125/125 [==============================] - 0s 1ms/step - loss: 171613.6094 - val_loss: 171618.9531\n",
            "Epoch 83/100\n",
            "125/125 [==============================] - 0s 1ms/step - loss: 171231.8906 - val_loss: 172294.4844\n",
            "Epoch 84/100\n",
            "125/125 [==============================] - 0s 1ms/step - loss: 171079.3281 - val_loss: 171387.2031\n",
            "Epoch 85/100\n",
            "125/125 [==============================] - 0s 1ms/step - loss: 171166.7969 - val_loss: 171580.8750\n",
            "Epoch 86/100\n",
            "125/125 [==============================] - 0s 1ms/step - loss: 170922.1094 - val_loss: 172772.4688\n",
            "Epoch 87/100\n",
            "125/125 [==============================] - 0s 1ms/step - loss: 170526.3750 - val_loss: 170553.5469\n",
            "Epoch 88/100\n",
            "125/125 [==============================] - 0s 1ms/step - loss: 170480.5000 - val_loss: 171724.6562\n",
            "Epoch 89/100\n",
            "125/125 [==============================] - 0s 1ms/step - loss: 170443.1094 - val_loss: 169727.2031\n",
            "Epoch 90/100\n",
            "125/125 [==============================] - 0s 1ms/step - loss: 170396.7188 - val_loss: 169371.3281\n",
            "Epoch 91/100\n",
            "125/125 [==============================] - 0s 1ms/step - loss: 169061.9531 - val_loss: 169432.9688\n",
            "Epoch 92/100\n",
            "125/125 [==============================] - 0s 1ms/step - loss: 169443.3438 - val_loss: 169602.0938\n",
            "Epoch 93/100\n",
            "125/125 [==============================] - 0s 1ms/step - loss: 169627.2344 - val_loss: 170028.6406\n",
            "Epoch 94/100\n",
            "125/125 [==============================] - 0s 1ms/step - loss: 169844.0469 - val_loss: 171278.0156\n",
            "Epoch 95/100\n",
            "125/125 [==============================] - 0s 1ms/step - loss: 169787.2344 - val_loss: 168824.7188\n",
            "Epoch 96/100\n",
            "125/125 [==============================] - 0s 1ms/step - loss: 169474.9844 - val_loss: 169247.6406\n",
            "Epoch 97/100\n",
            "125/125 [==============================] - 0s 1ms/step - loss: 169877.4844 - val_loss: 169307.3281\n",
            "Epoch 98/100\n",
            "125/125 [==============================] - 0s 1ms/step - loss: 169998.8906 - val_loss: 170227.5938\n",
            "Epoch 99/100\n",
            "125/125 [==============================] - 0s 1ms/step - loss: 169907.2500 - val_loss: 168863.7031\n",
            "Epoch 100/100\n",
            "125/125 [==============================] - 0s 1ms/step - loss: 169229.6094 - val_loss: 170230.0469\n"
          ],
          "name": "stdout"
        }
      ]
    },
    {
      "cell_type": "code",
      "metadata": {
        "id": "ocjbo9ZxmftI",
        "colab_type": "code",
        "colab": {
          "base_uri": "https://localhost:8080/",
          "height": 313
        },
        "outputId": "85f652fe-2a30-4e8d-d9d7-4a9a350fffa2"
      },
      "source": [
        "import matplotlib.pyplot as plt\n",
        "\n",
        "plt.plot(history.history['loss'])\n",
        "plt.plot(history.history['val_loss'])\n",
        "plt.legend(['Training data', 'Validation data'])\n",
        "plt.title('Loss')\n",
        "plt.xlabel('Epochs')"
      ],
      "execution_count": 89,
      "outputs": [
        {
          "output_type": "execute_result",
          "data": {
            "text/plain": [
              "Text(0.5, 0, 'Epochs')"
            ]
          },
          "metadata": {
            "tags": []
          },
          "execution_count": 89
        },
        {
          "output_type": "display_data",
          "data": {
            "image/png": "[encoded data removed]",
            "text/plain": [
              "<Figure size 432x288 with 1 Axes>"
            ]
          },
          "metadata": {
            "tags": [],
            "needs_background": "light"
          }
        }
      ]
    },
    {
      "cell_type": "code",
      "metadata": {
        "id": "ZhBTP4YQoIxz",
        "colab_type": "code",
        "colab": {
          "base_uri": "https://localhost:8080/",
          "height": 35
        },
        "outputId": "0605887a-c099-4803-cee4-d70c48145b4e"
      },
      "source": [
        "score = model.evaluate(X_test, y_test, verbose = 0)\n",
        "print('Test score: ', score)"
      ],
      "execution_count": 93,
      "outputs": [
        {
          "output_type": "stream",
          "text": [
            "Test score:  170230.046875\n"
          ],
          "name": "stdout"
        }
      ]
    }
  ]
}