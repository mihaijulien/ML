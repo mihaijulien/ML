{
  "nbformat": 4,
  "nbformat_minor": 0,
  "metadata": {
    "colab": {
      "name": "ocr.ipynb",
      "provenance": [],
      "collapsed_sections": []
    },
    "kernelspec": {
      "name": "python3",
      "display_name": "Python 3"
    },
    "language_info": {
      "name": "python"
    }
  },
  "cells": [
    {
      "cell_type": "code",
      "metadata": {
        "id": "Sxl3sg92r8_6"
      },
      "source": [
        "import torch\n",
        "import torchvision\n",
        "import torch.nn as nn\n",
        "import torch.nn.functional as F\n",
        "import torch.optim as optim\n",
        "import math\n",
        "\n",
        "import torchvision.transforms as transforms\n",
        "import numpy as np\n",
        "import matplotlib.pyplot as plt"
      ],
      "execution_count": 1,
      "outputs": []
    },
    {
      "cell_type": "code",
      "metadata": {
        "id": "FwiWb1p2sga3"
      },
      "source": [
        "import tarfile\n",
        "tar = tarfile.open('/content/drive/MyDrive/ML/EnglishFnt.tgz')\n",
        "tar.extractall('./EnglishFnt')\n",
        "tar.close()"
      ],
      "execution_count": 2,
      "outputs": []
    },
    {
      "cell_type": "code",
      "metadata": {
        "id": "DGHDENOewueY"
      },
      "source": [
        "data = torchvision.datasets.ImageFolder(\n",
        "    root='/content/EnglishFnt/English/Fnt',\n",
        "    transform = transforms.Compose([transforms.Resize((48,48)),\n",
        "                                    transforms.RandomHorizontalFlip(),\n",
        "                                    transforms.ToTensor(),\n",
        "                                    transforms.Normalize((0.5, ), (0.5, ))])\n",
        ")"
      ],
      "execution_count": 3,
      "outputs": []
    },
    {
      "cell_type": "code",
      "metadata": {
        "id": "JJ-euu-Y1VTK"
      },
      "source": [
        "def load_split(dataset, batch_size, test_split=0.3):\n",
        "  shuffle_dataset = True\n",
        "  random_seed = 42\n",
        "  dataset_size = len(dataset)\n",
        "  indices = list(range(dataset_size))\n",
        "  split = int(np.floor(test_split * dataset_size))\n",
        "  if(shuffle_dataset):\n",
        "    np.random.seed(random_seed)\n",
        "    np.random.shuffle(indices)\n",
        "  train_indices, test_indices = indices[split:], indices[:split]\n",
        "\n",
        "  testset_size = len(test_indices)\n",
        "  indices = list(range(testset_size))\n",
        "  split = int(np.floor(0.5 * testset_size))\n",
        "  if(shuffle_dataset):\n",
        "    np.random.seed(random_seed)\n",
        "    np.random.shuffle(indices)\n",
        "  val_indices, test_indices = indices[split:], indices[:split]\n",
        "\n",
        "  # Creating data samplers and loaders\n",
        "  train_sampler = torch.utils.data.SubsetRandomSampler(train_indices)\n",
        "  val_sampler = torch.utils.data.SubsetRandomSampler(val_indices)\n",
        "  test_sampler = torch.utils.data.SubsetRandomSampler(test_indices)\n",
        "\n",
        "  train_loader = torch.utils.data.DataLoader(dataset, batch_size,\n",
        "                                             sampler=train_sampler)\n",
        "  test_loader = torch.utils.data.DataLoader(dataset, batch_size,\n",
        "                                             sampler=test_sampler)\n",
        "  val_loader = torch.utils.data.DataLoader(dataset, batch_size,\n",
        "                                             sampler=val_sampler)\n",
        "  \n",
        "  return train_loader, test_loader, val_loader"
      ],
      "execution_count": 4,
      "outputs": []
    },
    {
      "cell_type": "code",
      "metadata": {
        "id": "tRzPy3LM2k1F"
      },
      "source": [
        "batch_size = 36\n",
        "train_loader, test_loader, val_loader = load_split(data, batch_size, test_split=0.3)"
      ],
      "execution_count": 5,
      "outputs": []
    },
    {
      "cell_type": "code",
      "metadata": {
        "id": "gb2Aac6b5HhP"
      },
      "source": [
        "class Network(nn.Module):\n",
        "  def __init__(self):\n",
        "    super(Network, self).__init__()\n",
        "    self.conv1 = nn.Conv2d(3,16,3) \n",
        "    self.conv2 = nn.Conv2d(32, 64, 3)\n",
        "    self.conv3 = nn.Conv2d(32, 64, 3)\n",
        "    self.fc1 = nn.Linear(64 * 9 * 9, 62)\n",
        "\n",
        "    self.max_pool = nn.MaxPool2d(2,2, ceil_mode=True)\n",
        "    self.dropout = nn.Dropout(0.2)\n",
        "    self.conv_bn1 = nn.BatchNorm2d(48,3)\n",
        "    self.conv_bn2 = nn.BatchNorm2d(16)\n",
        "    self.conv_bn3 = nn.BatchNorm2d(32)\n",
        "    self.conv_bn4 = nn.BatchNorm2d(64)\n",
        "\n",
        "    def forward(self, x):\n",
        "      x = F.relu(self.conv1(x))\n",
        "      x = self.max_pool(x)\n",
        "      x = self.conv_bn2(x)\n",
        "\n",
        "      x = F.relu(self.conv2(x))\n",
        "      x = self.max_pool(x)\n",
        "      x = self.conv_bn3(x)\n",
        "\n",
        "      x = F.relu(self.conv3(x))\n",
        "      x = self.max_pool(x)\n",
        "      x = self.conv_bn4(x)\n",
        "\n",
        "      x = x.view(-1, 64 * 9 * 9)\n",
        "      x = self.dropout(x)\n",
        "      x = self.fc1(x)\n",
        "      return x"
      ],
      "execution_count": 7,
      "outputs": []
    },
    {
      "cell_type": "code",
      "metadata": {
        "id": "ggA7lGBHOoQP"
      },
      "source": [
        "def one_hot(labels, pred_size):\n",
        "  one_hot_encoded = torch.zeros(len(labels)), pred_size\n",
        "  y = 0\n",
        "  for x in labels:\n",
        "    one_hot_encoded[y][x] = 1\n",
        "    y += 1\n",
        "  return one_hot_encoded\n"
      ],
      "execution_count": 9,
      "outputs": []
    },
    {
      "cell_type": "code",
      "metadata": {
        "id": "v-MY89q9O-mP"
      },
      "source": [
        "class MyLoss(torch.autograd.Function):\n",
        "  @staticmethod\n",
        "  def forward(ctx, pred, labels):\n",
        "    y = one_hot(labels, len(pred[0]))\n",
        "    y = y.cude()\n",
        "    ctx.save_for_backward(y, pred)\n",
        "    loss = - y * torch.log(pred)\n",
        "    loss = loss.sum()/len(labels)\n",
        "    return loss\n",
        "\n",
        "    @staticmethod\n",
        "    def backward(ctx, grad_output):\n",
        "      y, pred = ctx.saved_tensors\n",
        "      grad_input = (-y / pred) - y\n",
        "      grad_input = grad_input/len(pred)\n",
        "      return grad_input, grad_output"
      ],
      "execution_count": 10,
      "outputs": []
    }
  ]
}